{
 "cells": [
  {
   "cell_type": "markdown",
   "metadata": {},
   "source": [
    "### Note\n",
    "* Instructions have been included for each segment. You do not have to follow them exactly, but they are included to help you think through the steps."
   ]
  },
  {
   "cell_type": "code",
   "execution_count": 1,
   "metadata": {},
   "outputs": [
    {
     "data": {
      "text/html": "<div>\n<style scoped>\n    .dataframe tbody tr th:only-of-type {\n        vertical-align: middle;\n    }\n\n    .dataframe tbody tr th {\n        vertical-align: top;\n    }\n\n    .dataframe thead th {\n        text-align: right;\n    }\n</style>\n<table border=\"1\" class=\"dataframe\">\n  <thead>\n    <tr style=\"text-align: right;\">\n      <th></th>\n      <th>Purchase ID</th>\n      <th>SN</th>\n      <th>Age</th>\n      <th>Gender</th>\n      <th>Item ID</th>\n      <th>Item Name</th>\n      <th>Price</th>\n    </tr>\n  </thead>\n  <tbody>\n    <tr>\n      <td>0</td>\n      <td>0</td>\n      <td>Lisim78</td>\n      <td>20</td>\n      <td>Male</td>\n      <td>108</td>\n      <td>Extraction, Quickblade Of Trembling Hands</td>\n      <td>3.53</td>\n    </tr>\n    <tr>\n      <td>1</td>\n      <td>1</td>\n      <td>Lisovynya38</td>\n      <td>40</td>\n      <td>Male</td>\n      <td>143</td>\n      <td>Frenzied Scimitar</td>\n      <td>1.56</td>\n    </tr>\n    <tr>\n      <td>2</td>\n      <td>2</td>\n      <td>Ithergue48</td>\n      <td>24</td>\n      <td>Male</td>\n      <td>92</td>\n      <td>Final Critic</td>\n      <td>4.88</td>\n    </tr>\n    <tr>\n      <td>3</td>\n      <td>3</td>\n      <td>Chamassasya86</td>\n      <td>24</td>\n      <td>Male</td>\n      <td>100</td>\n      <td>Blindscythe</td>\n      <td>3.27</td>\n    </tr>\n    <tr>\n      <td>4</td>\n      <td>4</td>\n      <td>Iskosia90</td>\n      <td>23</td>\n      <td>Male</td>\n      <td>131</td>\n      <td>Fury</td>\n      <td>1.44</td>\n    </tr>\n    <tr>\n      <td>5</td>\n      <td>5</td>\n      <td>Yalae81</td>\n      <td>22</td>\n      <td>Male</td>\n      <td>81</td>\n      <td>Dreamkiss</td>\n      <td>3.61</td>\n    </tr>\n    <tr>\n      <td>6</td>\n      <td>6</td>\n      <td>Itheria73</td>\n      <td>36</td>\n      <td>Male</td>\n      <td>169</td>\n      <td>Interrogator, Blood Blade of the Queen</td>\n      <td>2.18</td>\n    </tr>\n    <tr>\n      <td>7</td>\n      <td>7</td>\n      <td>Iskjaskst81</td>\n      <td>20</td>\n      <td>Male</td>\n      <td>162</td>\n      <td>Abyssal Shard</td>\n      <td>2.67</td>\n    </tr>\n    <tr>\n      <td>8</td>\n      <td>8</td>\n      <td>Undjask33</td>\n      <td>22</td>\n      <td>Male</td>\n      <td>21</td>\n      <td>Souleater</td>\n      <td>1.10</td>\n    </tr>\n    <tr>\n      <td>9</td>\n      <td>9</td>\n      <td>Chanosian48</td>\n      <td>35</td>\n      <td>Other / Non-Disclosed</td>\n      <td>136</td>\n      <td>Ghastly Adamantite Protector</td>\n      <td>3.58</td>\n    </tr>\n  </tbody>\n</table>\n</div>",
      "text/plain": "   Purchase ID             SN  Age                 Gender  Item ID  \\\n0            0        Lisim78   20                   Male      108   \n1            1    Lisovynya38   40                   Male      143   \n2            2     Ithergue48   24                   Male       92   \n3            3  Chamassasya86   24                   Male      100   \n4            4      Iskosia90   23                   Male      131   \n5            5        Yalae81   22                   Male       81   \n6            6      Itheria73   36                   Male      169   \n7            7    Iskjaskst81   20                   Male      162   \n8            8      Undjask33   22                   Male       21   \n9            9    Chanosian48   35  Other / Non-Disclosed      136   \n\n                                   Item Name  Price  \n0  Extraction, Quickblade Of Trembling Hands   3.53  \n1                          Frenzied Scimitar   1.56  \n2                               Final Critic   4.88  \n3                                Blindscythe   3.27  \n4                                       Fury   1.44  \n5                                  Dreamkiss   3.61  \n6     Interrogator, Blood Blade of the Queen   2.18  \n7                              Abyssal Shard   2.67  \n8                                  Souleater   1.10  \n9               Ghastly Adamantite Protector   3.58  "
     },
     "execution_count": 1,
     "metadata": {},
     "output_type": "execute_result"
    }
   ],
   "source": [
    "# Dependencies and Setup\n",
    "import pandas as pd\n",
    "import csv\n",
    "\n",
    "# File to Load (Remember to Change These)\n",
    "datafile = \"Resources/purchase_data.csv\"\n",
    "\n",
    "# Read Purchasing File and store into Pandas data frame\n",
    "purchase_data = pd.read_csv(datafile)\n",
    "purchase_data.head(10)"
   ]
  },
  {
   "cell_type": "markdown",
   "metadata": {},
   "source": [
    "## Player Count"
   ]
  },
  {
   "cell_type": "markdown",
   "metadata": {},
   "source": [
    "* Display the total number of players\n"
   ]
  },
  {
   "cell_type": "code",
   "execution_count": 2,
   "metadata": {},
   "outputs": [
    {
     "name": "stdout",
     "output_type": "stream",
     "text": "Total Number of Players: 576\n"
    }
   ],
   "source": [
    "#Gets the length of the unique \"SN\" values and displays them\n",
    "player_count = len(purchase_data[\"SN\"].unique())\n",
    "print(f\"Total Number of Players: {player_count}\")"
   ]
  },
  {
   "cell_type": "markdown",
   "metadata": {},
   "source": [
    "## Purchasing Analysis (Total)"
   ]
  },
  {
   "cell_type": "markdown",
   "metadata": {},
   "source": [
    "* Run basic calculations to obtain number of unique items, average price, etc.\n",
    "\n",
    "\n",
    "* Create a summary data frame to hold the results\n",
    "\n",
    "\n",
    "* Optional: give the displayed data cleaner formatting\n",
    "\n",
    "\n",
    "* Display the summary data frame\n"
   ]
  },
  {
   "cell_type": "code",
   "execution_count": 3,
   "metadata": {},
   "outputs": [
    {
     "name": "stdout",
     "output_type": "stream",
     "text": "Index(['Purchase ID', 'SN', 'Age', 'Gender', 'Item ID', 'Item Name', 'Price'], dtype='object')\n183 3.050987179487176 780 2379.77\n"
    }
   ],
   "source": [
    "#Get the column names for the data frame\n",
    "print(purchase_data.columns)\n",
    "\n",
    "#Get the length of the unique \"Item ID\" values and stores them in a variable\n",
    "unique_items = len(purchase_data[\"Item ID\"].unique())\n",
    "\n",
    "#Gets the average price from the \"Price\" column and stores in a variable\n",
    "avg_price = purchase_data[\"Price\"].mean()\n",
    "\n",
    "#Gets the total count of purchases from the \"Purchase ID\" column and stores in a variable\n",
    "num_purchases = purchase_data[\"Purchase ID\"].count()\n",
    "\n",
    "#Gets the sum of the purchaes from the \"Price\" column and stores in a variable\n",
    "total_revenue = purchase_data[\"Price\"].sum()\n",
    "\n",
    "print(f\"{unique_items} {avg_price} {num_purchases} {total_revenue}\")"
   ]
  },
  {
   "cell_type": "code",
   "execution_count": 4,
   "metadata": {},
   "outputs": [
    {
     "data": {
      "text/html": "<div>\n<style scoped>\n    .dataframe tbody tr th:only-of-type {\n        vertical-align: middle;\n    }\n\n    .dataframe tbody tr th {\n        vertical-align: top;\n    }\n\n    .dataframe thead th {\n        text-align: right;\n    }\n</style>\n<table border=\"1\" class=\"dataframe\">\n  <thead>\n    <tr style=\"text-align: right;\">\n      <th></th>\n      <th>Number of Unique Items</th>\n      <th>Average Price</th>\n      <th>Number of Purchases</th>\n      <th>Total Revenue</th>\n    </tr>\n  </thead>\n  <tbody>\n    <tr>\n      <td>0</td>\n      <td>183</td>\n      <td>$3.05</td>\n      <td>780</td>\n      <td>$2379.77</td>\n    </tr>\n  </tbody>\n</table>\n</div>",
      "text/plain": "   Number of Unique Items Average Price  Number of Purchases Total Revenue\n0                     183         $3.05                  780      $2379.77"
     },
     "execution_count": 4,
     "metadata": {},
     "output_type": "execute_result"
    }
   ],
   "source": [
    "#Create a summary DataFrame using the above values\n",
    "purchase_summary_df = pd.DataFrame({\"Number of Unique Items\": [unique_items],\n",
    "                           \"Average Price\": [avg_price],\n",
    "                           \"Number of Purchases\": [num_purchases],\n",
    "                           \"Total Revenue\": [total_revenue]})\n",
    "\n",
    "#Formats the columns with pricing info using map() function\n",
    "purchase_summary_df[\"Average Price\"] = purchase_summary_df[\"Average Price\"].map(\"${:.2f}\".format)\n",
    "purchase_summary_df[\"Total Revenue\"] = purchase_summary_df[\"Total Revenue\"].map(\"${:.2f}\".format)\n",
    "\n",
    "#Display the summary data frame\n",
    "purchase_summary_df"
   ]
  },
  {
   "cell_type": "markdown",
   "metadata": {},
   "source": [
    "## Gender Demographics"
   ]
  },
  {
   "cell_type": "markdown",
   "metadata": {},
   "source": [
    "* Percentage and Count of Male Players\n",
    "\n",
    "\n",
    "* Percentage and Count of Female Players\n",
    "\n",
    "\n",
    "* Percentage and Count of Other / Non-Disclosed\n",
    "\n",
    "\n"
   ]
  },
  {
   "cell_type": "code",
   "execution_count": 5,
   "metadata": {},
   "outputs": [
    {
     "data": {
      "text/html": "<div>\n<style scoped>\n    .dataframe tbody tr th:only-of-type {\n        vertical-align: middle;\n    }\n\n    .dataframe tbody tr th {\n        vertical-align: top;\n    }\n\n    .dataframe thead th {\n        text-align: right;\n    }\n</style>\n<table border=\"1\" class=\"dataframe\">\n  <thead>\n    <tr style=\"text-align: right;\">\n      <th></th>\n      <th>Gender</th>\n      <th>Percentage of Players</th>\n    </tr>\n  </thead>\n  <tbody>\n    <tr>\n      <td>Male</td>\n      <td>484</td>\n      <td>84.03%</td>\n    </tr>\n    <tr>\n      <td>Female</td>\n      <td>81</td>\n      <td>14.06%</td>\n    </tr>\n    <tr>\n      <td>Other / Non-Disclosed</td>\n      <td>11</td>\n      <td>1.91%</td>\n    </tr>\n  </tbody>\n</table>\n</div>",
      "text/plain": "                       Gender Percentage of Players\nMale                      484                84.03%\nFemale                     81                14.06%\nOther / Non-Disclosed      11                 1.91%"
     },
     "execution_count": 5,
     "metadata": {},
     "output_type": "execute_result"
    }
   ],
   "source": [
    "#Create a df with only the unique SN\n",
    "unique_names_df = purchase_data.drop_duplicates([\"SN\"])\n",
    "#unique_names_df\n",
    "\n",
    "#Group the data by gender\n",
    "unique_gender_count = unique_names_df[\"Gender\"].value_counts()\n",
    "\n",
    "#Create a summary table of the gender count\n",
    "gender_df = pd.DataFrame(unique_gender_count)\n",
    "\n",
    "#Adds the percentage of players column to the table\n",
    "gender_df[\"Percentage of Players\"] = (gender_df[\"Gender\"] / player_count) * 100\n",
    "#Formats the Percentage of Players column to show a percentage\n",
    "gender_df[\"Percentage of Players\"] = gender_df[\"Percentage of Players\"].map(\"{:.2f}%\".format)\n",
    "gender_df"
   ]
  },
  {
   "cell_type": "markdown",
   "metadata": {},
   "source": [
    "\n",
    "## Purchasing Analysis (Gender)"
   ]
  },
  {
   "cell_type": "markdown",
   "metadata": {},
   "source": [
    "* Run basic calculations to obtain purchase count, avg. purchase price, avg. purchase total per person etc. by gender\n",
    "\n",
    "\n",
    "\n",
    "\n",
    "* Create a summary data frame to hold the results\n",
    "\n",
    "\n",
    "* Optional: give the displayed data cleaner formatting\n",
    "\n",
    "\n",
    "* Display the summary data frame"
   ]
  },
  {
   "cell_type": "code",
   "execution_count": 12,
   "metadata": {},
   "outputs": [
    {
     "name": "stdout",
     "output_type": "stream",
     "text": "Purchase Count Average Purchase Price  \\\nMale                              652                  $3.02   \nFemale                            113                  $3.20   \nOther / Non-Disclosed              15                  $3.35   \n\n                      Total Purchase Value Avg Total Purchase per Person  \nMale                              $1967.64                         $4.07  \nFemale                             $361.94                         $4.47  \nOther / Non-Disclosed               $50.19                         $4.56  \n"
    }
   ],
   "source": [
    "#Get the value counts of each gender's purchases\n",
    "gender_purchase_count = purchase_data[\"Gender\"].value_counts()\n",
    "\n",
    "#Set the value counts in a data frame\n",
    "gender_count = pd.DataFrame(gender_purchase_count)\n",
    "\n",
    "#Separate the index using future code...\n",
    "gender_grouped_data = purchase_data.groupby(\"Gender\")\n",
    "\n",
    "#Get the avg purchase price and total using the mean() and sum() functions respectively\n",
    "gender_mean = gender_grouped_data[\"Price\"].mean()\n",
    "gender_sum = gender_grouped_data[\"Price\"].sum()\n",
    "\n",
    "#Rename column\n",
    "gender_count = gender_count.rename(columns={\"Gender\":\"Purchase Count\"})\n",
    "\n",
    "#Add the mean and sum values to the dataframe\n",
    "gender_count[\"Average Purchase Price\"] = gender_mean\n",
    "gender_count[\"Total Purchase Value\"]= gender_sum\n",
    "\n",
    "#Get the avg purchase per person by dividing the sum with the gender count for the unique names, adding it to the df\n",
    "gender_count[\"Avg Total Purchase per Person\"] = (gender_sum /gender_df[\"Gender\"])\n",
    "\n",
    "#Format the columns to look like currency values\n",
    "gender_count[\"Average Purchase Price\"] = gender_count[\"Average Purchase Price\"].map(\"${:.2f}\".format)\n",
    "gender_count[\"Total Purchase Value\"]=gender_count[\"Total Purchase Value\"].map(\"${:.2f}\".format)\n",
    "gender_count[\"Avg Total Purchase per Person\"]=gender_count[\"Avg Total Purchase per Person\"].map(\"${:.2f}\".format)\n",
    "\n",
    "print(gender_count)"
   ]
  },
  {
   "cell_type": "markdown",
   "metadata": {},
   "source": [
    "## Age Demographics"
   ]
  },
  {
   "cell_type": "markdown",
   "metadata": {},
   "source": [
    "* Establish bins for ages\n",
    "\n",
    "\n",
    "* Categorize the existing players using the age bins. Hint: use pd.cut()\n",
    "\n",
    "\n",
    "* Calculate the numbers and percentages by age group\n",
    "\n",
    "\n",
    "* Create a summary data frame to hold the results\n",
    "\n",
    "\n",
    "* Optional: round the percentage column to two decimal points\n",
    "\n",
    "\n",
    "* Display Age Demographics Table\n"
   ]
  },
  {
   "cell_type": "code",
   "execution_count": 11,
   "metadata": {},
   "outputs": [
    {
     "name": "stdout",
     "output_type": "stream",
     "text": "Age    45\ndtype: int64\nAge    7\ndtype: int64\n"
    },
    {
     "data": {
      "text/html": "<div>\n<style scoped>\n    .dataframe tbody tr th:only-of-type {\n        vertical-align: middle;\n    }\n\n    .dataframe tbody tr th {\n        vertical-align: top;\n    }\n\n    .dataframe thead th {\n        text-align: right;\n    }\n</style>\n<table border=\"1\" class=\"dataframe\">\n  <thead>\n    <tr style=\"text-align: right;\">\n      <th></th>\n      <th>Age Group Summary</th>\n      <th>Percentage of Players</th>\n    </tr>\n  </thead>\n  <tbody>\n    <tr>\n      <td>&lt;10</td>\n      <td>17</td>\n      <td>2.95%</td>\n    </tr>\n    <tr>\n      <td>10-14</td>\n      <td>22</td>\n      <td>3.82%</td>\n    </tr>\n    <tr>\n      <td>15-19</td>\n      <td>107</td>\n      <td>18.58%</td>\n    </tr>\n    <tr>\n      <td>20-24</td>\n      <td>258</td>\n      <td>44.79%</td>\n    </tr>\n    <tr>\n      <td>25-29</td>\n      <td>77</td>\n      <td>13.37%</td>\n    </tr>\n    <tr>\n      <td>30-34</td>\n      <td>52</td>\n      <td>9.03%</td>\n    </tr>\n    <tr>\n      <td>35-39</td>\n      <td>31</td>\n      <td>5.38%</td>\n    </tr>\n    <tr>\n      <td>40+</td>\n      <td>12</td>\n      <td>2.08%</td>\n    </tr>\n  </tbody>\n</table>\n</div>",
      "text/plain": "       Age Group Summary Percentage of Players\n<10                   17                 2.95%\n10-14                 22                 3.82%\n15-19                107                18.58%\n20-24                258                44.79%\n25-29                 77                13.37%\n30-34                 52                 9.03%\n35-39                 31                 5.38%\n40+                   12                 2.08%"
     },
     "execution_count": 11,
     "metadata": {},
     "output_type": "execute_result"
    }
   ],
   "source": [
    "#Store all of the ages from the unique players in a dataframe\n",
    "age_data = unique_names_df[[\"Age\"]]\n",
    "\n",
    "#Find the upper and lower values to get a range of values\n",
    "print(age_data.max())\n",
    "print(age_data.min())\n",
    "\n",
    "#Make bins and groups that uses the range of the data\n",
    "age_bins = [0,9,14,19,24,29,34,39,50]\n",
    "age_groups = [\"<10\",\"10-14\",\"15-19\",\"20-24\",\"25-29\",\"30-34\",\"35-39\",\"40+\"]\n",
    "\n",
    "#Adds the Group Summary bins to the dataframe\n",
    "age_data[\"Age Group Summary\"] = pd.cut(age_data[\"Age\"],age_bins,labels = age_groups)\n",
    "\n",
    "#Make a summary frame getting the total counts of each group, not sorting it to keep the data where it was\n",
    "age_demos= pd.DataFrame(age_data[\"Age Group Summary\"].value_counts(sort = False))\n",
    "#print(age_demos)\n",
    "\n",
    "#Add the percentage of players column per group\n",
    "age_demos[\"Percentage of Players\"] = (age_demos[\"Age Group Summary\"] / player_count) * 100 \n",
    "\n",
    "#Format the summary frame\n",
    "age_demos.rename(columns={\"Age Group Summary\":\"Total Count\"})\n",
    "age_demos[\"Percentage of Players\"] = age_demos[\"Percentage of Players\"].map(\"{:.2f}%\".format)\n",
    "age_demos\n"
   ]
  },
  {
   "cell_type": "markdown",
   "metadata": {},
   "source": [
    "## Purchasing Analysis (Age)"
   ]
  },
  {
   "cell_type": "markdown",
   "metadata": {},
   "source": [
    "* Bin the purchase_data data frame by age\n",
    "\n",
    "\n",
    "* Run basic calculations to obtain purchase count, avg. purchase price, avg. purchase total per person etc. in the table below\n",
    "\n",
    "\n",
    "* Create a summary data frame to hold the results\n",
    "\n",
    "\n",
    "* Optional: give the displayed data cleaner formatting\n",
    "\n",
    "\n",
    "* Display the summary data frame"
   ]
  },
  {
   "cell_type": "code",
   "execution_count": 10,
   "metadata": {},
   "outputs": [
    {
     "name": "stdout",
     "output_type": "stream",
     "text": "Purchase Count Average Purchase Price Total Purchase Value  \\\n<10                23                  $3.35               $77.13   \n10-14              28                  $2.96               $82.78   \n15-19             136                  $3.04              $412.89   \n20-24             365                  $3.05             $1114.06   \n25-29             101                  $2.90              $293.00   \n30-34              73                  $2.93              $214.00   \n35-39              41                  $3.60              $147.67   \n40+                13                  $2.94               $38.24   \n\n      Avg Total Purchase per Person  \n<10                           $4.54  \n10-14                         $3.76  \n15-19                         $3.86  \n20-24                         $4.32  \n25-29                         $3.81  \n30-34                         $4.12  \n35-39                         $4.76  \n40+                           $3.19  \n"
    }
   ],
   "source": [
    "#Make new data frame from purchase_data with only the relevant data (age and price)\n",
    "age_price = purchase_data[[\"Age\",\"Price\"]]\n",
    "#Using the bins and groups from before, make a column of the age groups\n",
    "age_price[\"Age Range\"] = pd.cut(age_price[\"Age\"],age_bins,labels = age_groups)\n",
    "#Get the purchase count of each group by using value count\n",
    "age_counts = age_price[\"Age Range\"].value_counts(sort = False)\n",
    "\n",
    "#Get the average purchase price of each group by using mean\n",
    "grouped_age_analysis = age_price.groupby([\"Age Range\"])\n",
    "age_mean = grouped_age_analysis[\"Price\"].mean()\n",
    "#Get the total purchase value of each group by using sum\n",
    "age_total = grouped_age_analysis[\"Price\"].sum()\n",
    "\n",
    "age_analysis = pd.DataFrame({\"Purchase Count\":age_counts,\"Average Purchase Price\":age_mean,\"Total Purchase Value\":age_total})\n",
    "#print(age_analysis)\n",
    "#Get the average total purchase per person by using the unique names dataframe and binning that\n",
    "unique_ages = unique_names_df\n",
    "unique_ages[\"Age Range\"]= pd.cut(age_price[\"Age\"],age_bins,labels = age_groups)\n",
    "unique_ages_df = pd.DataFrame(unique_ages[\"Age Range\"].value_counts(sort = False))\n",
    "age_avg_total = age_total / unique_ages_df[\"Age Range\"]\n",
    "age_analysis[\"Avg Total Purchase per Person\"] =age_avg_total\n",
    "\n",
    "age_analysis[\"Average Purchase Price\"] = age_analysis[\"Average Purchase Price\"].map(\"${:.2f}\".format)\n",
    "age_analysis[\"Total Purchase Value\"] = age_analysis[\"Total Purchase Value\"].map(\"${:.2f}\".format)\n",
    "age_analysis[\"Avg Total Purchase per Person\"] = age_analysis[\"Avg Total Purchase per Person\"].map(\"${:.2f}\".format)\n",
    "print(age_analysis)"
   ]
  },
  {
   "cell_type": "markdown",
   "metadata": {},
   "source": [
    "## Top Spenders"
   ]
  },
  {
   "cell_type": "markdown",
   "metadata": {},
   "source": [
    "* Run basic calculations to obtain the results in the table below\n",
    "\n",
    "\n",
    "* Create a summary data frame to hold the results\n",
    "\n",
    "\n",
    "* Sort the total purchase value column in descending order\n",
    "\n",
    "\n",
    "* Optional: give the displayed data cleaner formatting\n",
    "\n",
    "\n",
    "* Display a preview of the summary data frame\n",
    "\n"
   ]
  },
  {
   "cell_type": "code",
   "execution_count": 9,
   "metadata": {},
   "outputs": [
    {
     "name": "stdout",
     "output_type": "stream",
     "text": "Purchase Count Average Purchase Price Total Purchase Value\nLisosia93                 5                  $3.79               $18.96\nIdastidru52               4                  $3.86               $15.45\nChamjask73                3                  $4.61               $13.83\nIral74                    4                  $3.40               $13.62\nIskadarya95               3                  $4.37               $13.10\n...                     ...                    ...                  ...\nIlilsasya43               1                  $1.02                $1.02\nIrilis75                  1                  $1.02                $1.02\nAidai61                   1                  $1.01                $1.01\nChanirra79                1                  $1.01                $1.01\nAlo38                     1                  $1.00                $1.00\n\n[576 rows x 3 columns]\n"
    }
   ],
   "source": [
    "#Get the total amount of times each SN appears in the data\n",
    "sn_count = purchase_data[\"SN\"].value_counts()\n",
    "\n",
    "#Gets the total sum of the purchases made by each SN\n",
    "spender_sum = purchase_data.groupby(\"SN\")[\"Price\"].sum()\n",
    "\n",
    "#Get the average purchase price by dividing the total sum per SN by the SN count\n",
    "spender_avg = spender_sum / sn_count\n",
    "\n",
    "#Combine all of the results into a summary data frame\n",
    "top_spenders_df = pd.DataFrame({\"Purchase Count\":sn_count,\"Average Purchase Price\":spender_avg,\"Total Purchase Value\":spender_sum})\n",
    "\n",
    "#Sorts the summary frame by Total Purchase Value in descending order\n",
    "top_spenders_df = top_spenders_df.sort_values(by=\"Total Purchase Value\",ascending = False)\n",
    "\n",
    "#Formats the values for currency\n",
    "top_spenders_df[\"Average Purchase Price\"] = top_spenders_df[\"Average Purchase Price\"].map(\"${:.2f}\".format)\n",
    "top_spenders_df[\"Total Purchase Value\"] = top_spenders_df[\"Total Purchase Value\"].map(\"${:.2f}\".format)\n",
    "\n",
    "print(top_spenders_df)"
   ]
  },
  {
   "cell_type": "markdown",
   "metadata": {},
   "source": [
    "## Most Popular Items"
   ]
  },
  {
   "cell_type": "markdown",
   "metadata": {},
   "source": [
    "* Retrieve the Item ID, Item Name, and Item Price columns\n",
    "\n",
    "\n",
    "* Group by Item ID and Item Name. Perform calculations to obtain purchase count, item price, and total purchase value\n",
    "\n",
    "\n",
    "* Create a summary data frame to hold the results\n",
    "\n",
    "\n",
    "* Sort the purchase count column in descending order\n",
    "\n",
    "\n",
    "* Optional: give the displayed data cleaner formatting\n",
    "\n",
    "\n",
    "* Display a preview of the summary data frame\n",
    "\n"
   ]
  },
  {
   "cell_type": "code",
   "execution_count": 110,
   "metadata": {},
   "outputs": [
    {
     "data": {
      "text/html": "<div>\n<style scoped>\n    .dataframe tbody tr th:only-of-type {\n        vertical-align: middle;\n    }\n\n    .dataframe tbody tr th {\n        vertical-align: top;\n    }\n\n    .dataframe thead th {\n        text-align: right;\n    }\n</style>\n<table border=\"1\" class=\"dataframe\">\n  <thead>\n    <tr style=\"text-align: right;\">\n      <th></th>\n      <th></th>\n      <th>Purchase Count</th>\n      <th>Price</th>\n      <th>Total Purchase Value</th>\n    </tr>\n    <tr>\n      <th>Item ID</th>\n      <th>Item Name</th>\n      <th></th>\n      <th></th>\n      <th></th>\n    </tr>\n  </thead>\n  <tbody>\n    <tr>\n      <td>178</td>\n      <td>Oathbreaker, Last Hope of the Breaking Storm</td>\n      <td>12</td>\n      <td>$4.23</td>\n      <td>$50.76</td>\n    </tr>\n    <tr>\n      <td>145</td>\n      <td>Fiery Glass Crusader</td>\n      <td>9</td>\n      <td>$4.58</td>\n      <td>$41.22</td>\n    </tr>\n    <tr>\n      <td>108</td>\n      <td>Extraction, Quickblade Of Trembling Hands</td>\n      <td>9</td>\n      <td>$3.53</td>\n      <td>$31.77</td>\n    </tr>\n    <tr>\n      <td>82</td>\n      <td>Nirvana</td>\n      <td>9</td>\n      <td>$4.90</td>\n      <td>$44.10</td>\n    </tr>\n    <tr>\n      <td>19</td>\n      <td>Pursuit, Cudgel of Necromancy</td>\n      <td>8</td>\n      <td>$1.02</td>\n      <td>$8.16</td>\n    </tr>\n    <tr>\n      <td>...</td>\n      <td>...</td>\n      <td>...</td>\n      <td>...</td>\n      <td>...</td>\n    </tr>\n    <tr>\n      <td>104</td>\n      <td>Gladiator's Glaive</td>\n      <td>1</td>\n      <td>$1.93</td>\n      <td>$1.93</td>\n    </tr>\n    <tr>\n      <td>23</td>\n      <td>Crucifer</td>\n      <td>1</td>\n      <td>$1.99</td>\n      <td>$1.99</td>\n    </tr>\n    <tr>\n      <td>180</td>\n      <td>Stormcaller</td>\n      <td>1</td>\n      <td>$3.36</td>\n      <td>$3.36</td>\n    </tr>\n    <tr>\n      <td>91</td>\n      <td>Celeste</td>\n      <td>1</td>\n      <td>$4.17</td>\n      <td>$4.17</td>\n    </tr>\n    <tr>\n      <td>134</td>\n      <td>Undead Crusader</td>\n      <td>1</td>\n      <td>$4.50</td>\n      <td>$4.50</td>\n    </tr>\n  </tbody>\n</table>\n<p>183 rows × 3 columns</p>\n</div>",
      "text/plain": "                                                      Purchase Count  Price  \\\nItem ID Item Name                                                             \n178     Oathbreaker, Last Hope of the Breaking Storm              12  $4.23   \n145     Fiery Glass Crusader                                       9  $4.58   \n108     Extraction, Quickblade Of Trembling Hands                  9  $3.53   \n82      Nirvana                                                    9  $4.90   \n19      Pursuit, Cudgel of Necromancy                              8  $1.02   \n...                                                              ...    ...   \n104     Gladiator's Glaive                                         1  $1.93   \n23      Crucifer                                                   1  $1.99   \n180     Stormcaller                                                1  $3.36   \n91      Celeste                                                    1  $4.17   \n134     Undead Crusader                                            1  $4.50   \n\n                                                     Total Purchase Value  \nItem ID Item Name                                                          \n178     Oathbreaker, Last Hope of the Breaking Storm               $50.76  \n145     Fiery Glass Crusader                                       $41.22  \n108     Extraction, Quickblade Of Trembling Hands                  $31.77  \n82      Nirvana                                                    $44.10  \n19      Pursuit, Cudgel of Necromancy                               $8.16  \n...                                                                   ...  \n104     Gladiator's Glaive                                          $1.93  \n23      Crucifer                                                    $1.99  \n180     Stormcaller                                                 $3.36  \n91      Celeste                                                     $4.17  \n134     Undead Crusader                                             $4.50  \n\n[183 rows x 3 columns]"
     },
     "execution_count": 110,
     "metadata": {},
     "output_type": "execute_result"
    }
   ],
   "source": [
    "#Make a new data frame only with Item ID, Item Name, and Item Price\n",
    "item_list = purchase_data[[\"Item ID\",\"Item Name\",\"Price\"]]\n",
    "\n",
    "#Sort the list by Item ID and Item Name\n",
    "grouped_item_list = item_list.groupby([\"Item ID\",\"Item Name\"])\n",
    "\n",
    "#Make the summary data frame using by getting the count of each Item and sorting them in descending order\n",
    "popular_items = pd.DataFrame(grouped_item_list.count().sort_values(by = \"Price\",ascending = False))\n",
    "#Rename the Price column to Purchase Count to avoid naming conflicts in later steps\n",
    "popular_items = popular_items.rename(columns={'Price':\"Purchase Count\"})\n",
    "\n",
    "#Adds the price column by getting the initial values in the Price column in the grouped list\n",
    "popular_items[\"Price\"] = grouped_item_list.first()\n",
    "#Adds the Total Purchase Value column by getting the sum of each Item according to frequency \n",
    "popular_items[\"Total Purchase Value\"] = grouped_item_list[\"Price\"].sum().sort_values( ascending = False)\n",
    "\n",
    "#Formats the columns involving currency\n",
    "popular_items[\"Price\"] = popular_items[\"Price\"].map(\"${:.2f}\".format)\n",
    "popular_items[\"Total Purchase Value\"] = popular_items[\"Total Purchase Value\"].map(\"${:.2f}\".format)\n",
    "\n",
    "#Prints the data frame\n",
    "popular_items"
   ]
  },
  {
   "cell_type": "markdown",
   "metadata": {},
   "source": [
    "## Most Profitable Items"
   ]
  },
  {
   "cell_type": "markdown",
   "metadata": {},
   "source": [
    "* Sort the above table by total purchase value in descending order\n",
    "\n",
    "\n",
    "* Optional: give the displayed data cleaner formatting\n",
    "\n",
    "\n",
    "* Display a preview of the data frame\n",
    "\n"
   ]
  },
  {
   "cell_type": "code",
   "execution_count": 111,
   "metadata": {},
   "outputs": [
    {
     "data": {
      "text/html": "<div>\n<style scoped>\n    .dataframe tbody tr th:only-of-type {\n        vertical-align: middle;\n    }\n\n    .dataframe tbody tr th {\n        vertical-align: top;\n    }\n\n    .dataframe thead th {\n        text-align: right;\n    }\n</style>\n<table border=\"1\" class=\"dataframe\">\n  <thead>\n    <tr style=\"text-align: right;\">\n      <th></th>\n      <th></th>\n      <th>Purchase Count</th>\n      <th>Price</th>\n      <th>Total Purchase Value</th>\n    </tr>\n    <tr>\n      <th>Item ID</th>\n      <th>Item Name</th>\n      <th></th>\n      <th></th>\n      <th></th>\n    </tr>\n  </thead>\n  <tbody>\n    <tr>\n      <td>178</td>\n      <td>Oathbreaker, Last Hope of the Breaking Storm</td>\n      <td>12</td>\n      <td>$4.23</td>\n      <td>$50.76</td>\n    </tr>\n    <tr>\n      <td>82</td>\n      <td>Nirvana</td>\n      <td>9</td>\n      <td>$4.90</td>\n      <td>$44.10</td>\n    </tr>\n    <tr>\n      <td>145</td>\n      <td>Fiery Glass Crusader</td>\n      <td>9</td>\n      <td>$4.58</td>\n      <td>$41.22</td>\n    </tr>\n    <tr>\n      <td>92</td>\n      <td>Final Critic</td>\n      <td>8</td>\n      <td>$4.88</td>\n      <td>$39.04</td>\n    </tr>\n    <tr>\n      <td>103</td>\n      <td>Singed Scalpel</td>\n      <td>8</td>\n      <td>$4.35</td>\n      <td>$34.80</td>\n    </tr>\n    <tr>\n      <td>...</td>\n      <td>...</td>\n      <td>...</td>\n      <td>...</td>\n      <td>...</td>\n    </tr>\n    <tr>\n      <td>125</td>\n      <td>Whistling Mithril Warblade</td>\n      <td>2</td>\n      <td>$1.00</td>\n      <td>$2.00</td>\n    </tr>\n    <tr>\n      <td>126</td>\n      <td>Exiled Mithril Longsword</td>\n      <td>1</td>\n      <td>$2.00</td>\n      <td>$2.00</td>\n    </tr>\n    <tr>\n      <td>23</td>\n      <td>Crucifer</td>\n      <td>1</td>\n      <td>$1.99</td>\n      <td>$1.99</td>\n    </tr>\n    <tr>\n      <td>104</td>\n      <td>Gladiator's Glaive</td>\n      <td>1</td>\n      <td>$1.93</td>\n      <td>$1.93</td>\n    </tr>\n    <tr>\n      <td>42</td>\n      <td>The Decapitator</td>\n      <td>1</td>\n      <td>$1.75</td>\n      <td>$1.75</td>\n    </tr>\n  </tbody>\n</table>\n<p>183 rows × 3 columns</p>\n</div>",
      "text/plain": "                                                      Purchase Count  Price  \\\nItem ID Item Name                                                             \n178     Oathbreaker, Last Hope of the Breaking Storm              12  $4.23   \n82      Nirvana                                                    9  $4.90   \n145     Fiery Glass Crusader                                       9  $4.58   \n92      Final Critic                                               8  $4.88   \n103     Singed Scalpel                                             8  $4.35   \n...                                                              ...    ...   \n125     Whistling Mithril Warblade                                 2  $1.00   \n126     Exiled Mithril Longsword                                   1  $2.00   \n23      Crucifer                                                   1  $1.99   \n104     Gladiator's Glaive                                         1  $1.93   \n42      The Decapitator                                            1  $1.75   \n\n                                                     Total Purchase Value  \nItem ID Item Name                                                          \n178     Oathbreaker, Last Hope of the Breaking Storm               $50.76  \n82      Nirvana                                                    $44.10  \n145     Fiery Glass Crusader                                       $41.22  \n92      Final Critic                                               $39.04  \n103     Singed Scalpel                                             $34.80  \n...                                                                   ...  \n125     Whistling Mithril Warblade                                  $2.00  \n126     Exiled Mithril Longsword                                    $2.00  \n23      Crucifer                                                    $1.99  \n104     Gladiator's Glaive                                          $1.93  \n42      The Decapitator                                             $1.75  \n\n[183 rows x 3 columns]"
     },
     "execution_count": 111,
     "metadata": {},
     "output_type": "execute_result"
    }
   ],
   "source": [
    "#Because the Total Purchase Value now has a $ in it, it is now considered a string\n",
    "#To properly sort by numeric value instead of by string, we have to convert the column\n",
    "#back to a float by removing the $ using replace() and recasting the column as float using astype()\n",
    "popular_items[\"Total Purchase Value\"] = popular_items[\"Total Purchase Value\"].str.replace('$','')\n",
    "popular_items[\"Total Purchase Value\"] = popular_items[\"Total Purchase Value\"].astype('float')\n",
    "\n",
    "#Sort the data frame by Total Purchase Value, descending\n",
    "popular_items = popular_items.sort_values(by ='Total Purchase Value',ascending = False)\n",
    "#Convert the column back to currency\n",
    "popular_items[\"Total Purchase Value\"] = popular_items[\"Total Purchase Value\"].map(\"${:.2f}\".format)\n",
    "#Display the summary data frame\n",
    "popular_items"
   ]
  },
  {
   "cell_type": "code",
   "execution_count": null,
   "metadata": {},
   "outputs": [],
   "source": []
  }
 ],
 "metadata": {
  "anaconda-cloud": {},
  "kernel_info": {
   "name": "python3"
  },
  "kernelspec": {
   "display_name": "Python 3",
   "language": "python",
   "name": "python3"
  },
  "language_info": {
   "codemirror_mode": {
    "name": "ipython",
    "version": 3
   },
   "file_extension": ".py",
   "mimetype": "text/x-python",
   "name": "python",
   "nbconvert_exporter": "python",
   "pygments_lexer": "ipython3",
   "version": "3.7.4-final"
  },
  "latex_envs": {
   "LaTeX_envs_menu_present": true,
   "autoclose": false,
   "autocomplete": true,
   "bibliofile": "biblio.bib",
   "cite_by": "apalike",
   "current_citInitial": 1,
   "eqLabelWithNumbers": true,
   "eqNumInitial": 1,
   "hotkeys": {
    "equation": "Ctrl-E",
    "itemize": "Ctrl-I"
   },
   "labels_anchors": false,
   "latex_user_defs": false,
   "report_style_numbering": false,
   "user_envs_cfg": false
  },
  "nteract": {
   "version": "0.2.0"
  }
 },
 "nbformat": 4,
 "nbformat_minor": 2
}