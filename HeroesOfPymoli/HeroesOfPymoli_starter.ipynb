{
 "cells": [
  {
   "cell_type": "markdown",
   "metadata": {},
   "source": [
    "### Note\n",
    "* Instructions have been included for each segment. You do not have to follow them exactly, but they are included to help you think through the steps."
   ]
  },
  {
   "cell_type": "code",
   "execution_count": 150,
   "metadata": {},
   "outputs": [
    {
     "data": {
      "text/html": "<div>\n<style scoped>\n    .dataframe tbody tr th:only-of-type {\n        vertical-align: middle;\n    }\n\n    .dataframe tbody tr th {\n        vertical-align: top;\n    }\n\n    .dataframe thead th {\n        text-align: right;\n    }\n</style>\n<table border=\"1\" class=\"dataframe\">\n  <thead>\n    <tr style=\"text-align: right;\">\n      <th></th>\n      <th>Purchase ID</th>\n      <th>SN</th>\n      <th>Age</th>\n      <th>Gender</th>\n      <th>Item ID</th>\n      <th>Item Name</th>\n      <th>Price</th>\n    </tr>\n  </thead>\n  <tbody>\n    <tr>\n      <td>0</td>\n      <td>0</td>\n      <td>Lisim78</td>\n      <td>20</td>\n      <td>Male</td>\n      <td>108</td>\n      <td>Extraction, Quickblade Of Trembling Hands</td>\n      <td>3.53</td>\n    </tr>\n    <tr>\n      <td>1</td>\n      <td>1</td>\n      <td>Lisovynya38</td>\n      <td>40</td>\n      <td>Male</td>\n      <td>143</td>\n      <td>Frenzied Scimitar</td>\n      <td>1.56</td>\n    </tr>\n    <tr>\n      <td>2</td>\n      <td>2</td>\n      <td>Ithergue48</td>\n      <td>24</td>\n      <td>Male</td>\n      <td>92</td>\n      <td>Final Critic</td>\n      <td>4.88</td>\n    </tr>\n    <tr>\n      <td>3</td>\n      <td>3</td>\n      <td>Chamassasya86</td>\n      <td>24</td>\n      <td>Male</td>\n      <td>100</td>\n      <td>Blindscythe</td>\n      <td>3.27</td>\n    </tr>\n    <tr>\n      <td>4</td>\n      <td>4</td>\n      <td>Iskosia90</td>\n      <td>23</td>\n      <td>Male</td>\n      <td>131</td>\n      <td>Fury</td>\n      <td>1.44</td>\n    </tr>\n    <tr>\n      <td>5</td>\n      <td>5</td>\n      <td>Yalae81</td>\n      <td>22</td>\n      <td>Male</td>\n      <td>81</td>\n      <td>Dreamkiss</td>\n      <td>3.61</td>\n    </tr>\n    <tr>\n      <td>6</td>\n      <td>6</td>\n      <td>Itheria73</td>\n      <td>36</td>\n      <td>Male</td>\n      <td>169</td>\n      <td>Interrogator, Blood Blade of the Queen</td>\n      <td>2.18</td>\n    </tr>\n    <tr>\n      <td>7</td>\n      <td>7</td>\n      <td>Iskjaskst81</td>\n      <td>20</td>\n      <td>Male</td>\n      <td>162</td>\n      <td>Abyssal Shard</td>\n      <td>2.67</td>\n    </tr>\n    <tr>\n      <td>8</td>\n      <td>8</td>\n      <td>Undjask33</td>\n      <td>22</td>\n      <td>Male</td>\n      <td>21</td>\n      <td>Souleater</td>\n      <td>1.10</td>\n    </tr>\n    <tr>\n      <td>9</td>\n      <td>9</td>\n      <td>Chanosian48</td>\n      <td>35</td>\n      <td>Other / Non-Disclosed</td>\n      <td>136</td>\n      <td>Ghastly Adamantite Protector</td>\n      <td>3.58</td>\n    </tr>\n  </tbody>\n</table>\n</div>",
      "text/plain": "   Purchase ID             SN  Age                 Gender  Item ID  \\\n0            0        Lisim78   20                   Male      108   \n1            1    Lisovynya38   40                   Male      143   \n2            2     Ithergue48   24                   Male       92   \n3            3  Chamassasya86   24                   Male      100   \n4            4      Iskosia90   23                   Male      131   \n5            5        Yalae81   22                   Male       81   \n6            6      Itheria73   36                   Male      169   \n7            7    Iskjaskst81   20                   Male      162   \n8            8      Undjask33   22                   Male       21   \n9            9    Chanosian48   35  Other / Non-Disclosed      136   \n\n                                   Item Name  Price  \n0  Extraction, Quickblade Of Trembling Hands   3.53  \n1                          Frenzied Scimitar   1.56  \n2                               Final Critic   4.88  \n3                                Blindscythe   3.27  \n4                                       Fury   1.44  \n5                                  Dreamkiss   3.61  \n6     Interrogator, Blood Blade of the Queen   2.18  \n7                              Abyssal Shard   2.67  \n8                                  Souleater   1.10  \n9               Ghastly Adamantite Protector   3.58  "
     },
     "execution_count": 150,
     "metadata": {},
     "output_type": "execute_result"
    }
   ],
   "source": [
    "# Dependencies and Setup\n",
    "import pandas as pd\n",
    "import csv\n",
    "\n",
    "# File to Load (Remember to Change These)\n",
    "datafile = \"Resources/purchase_data.csv\"\n",
    "\n",
    "# Read Purchasing File and store into Pandas data frame\n",
    "purchase_data = pd.read_csv(datafile)\n",
    "purchase_data.head(10)"
   ]
  },
  {
   "cell_type": "markdown",
   "metadata": {},
   "source": [
    "## Player Count"
   ]
  },
  {
   "cell_type": "markdown",
   "metadata": {},
   "source": [
    "* Display the total number of players\n"
   ]
  },
  {
   "cell_type": "code",
   "execution_count": 151,
   "metadata": {},
   "outputs": [
    {
     "name": "stdout",
     "output_type": "stream",
     "text": "Total Number of Players: 576\n"
    }
   ],
   "source": [
    "#Gets the length of the unique \"SN\" values and displays them\n",
    "player_count = len(purchase_data[\"SN\"].unique())\n",
    "print(f\"Total Number of Players: {player_count}\")"
   ]
  },
  {
   "cell_type": "markdown",
   "metadata": {},
   "source": [
    "## Purchasing Analysis (Total)"
   ]
  },
  {
   "cell_type": "markdown",
   "metadata": {},
   "source": [
    "* Run basic calculations to obtain number of unique items, average price, etc.\n",
    "\n",
    "\n",
    "* Create a summary data frame to hold the results\n",
    "\n",
    "\n",
    "* Optional: give the displayed data cleaner formatting\n",
    "\n",
    "\n",
    "* Display the summary data frame\n"
   ]
  },
  {
   "cell_type": "code",
   "execution_count": 152,
   "metadata": {},
   "outputs": [
    {
     "name": "stdout",
     "output_type": "stream",
     "text": "Index(['Purchase ID', 'SN', 'Age', 'Gender', 'Item ID', 'Item Name', 'Price'], dtype='object')\n183 3.050987179487176 780 2379.77\n"
    }
   ],
   "source": [
    "#Get the column names for the data frame\n",
    "print(purchase_data.columns)\n",
    "\n",
    "#Get the length of the unique \"Item ID\" values and stores them in a variable\n",
    "unique_items = len(purchase_data[\"Item ID\"].unique())\n",
    "\n",
    "#Gets the average price from the \"Price\" column and stores in a variable\n",
    "avg_price = purchase_data[\"Price\"].mean()\n",
    "\n",
    "#Gets the total count of purchases from the \"Purchase ID\" column and stores in a variable\n",
    "num_purchases = purchase_data[\"Purchase ID\"].count()\n",
    "\n",
    "#Gets the sum of the purchaes from the \"Price\" column and stores in a variable\n",
    "total_revenue = purchase_data[\"Price\"].sum()\n",
    "\n",
    "print(f\"{unique_items} {avg_price} {num_purchases} {total_revenue}\")"
   ]
  },
  {
   "cell_type": "code",
   "execution_count": 153,
   "metadata": {},
   "outputs": [
    {
     "data": {
      "text/html": "<div>\n<style scoped>\n    .dataframe tbody tr th:only-of-type {\n        vertical-align: middle;\n    }\n\n    .dataframe tbody tr th {\n        vertical-align: top;\n    }\n\n    .dataframe thead th {\n        text-align: right;\n    }\n</style>\n<table border=\"1\" class=\"dataframe\">\n  <thead>\n    <tr style=\"text-align: right;\">\n      <th></th>\n      <th>Number of Unique Items</th>\n      <th>Average Price</th>\n      <th>Number of Purchases</th>\n      <th>Total Revenue</th>\n    </tr>\n  </thead>\n  <tbody>\n    <tr>\n      <td>0</td>\n      <td>183</td>\n      <td>$3.05</td>\n      <td>780</td>\n      <td>$2379.77</td>\n    </tr>\n  </tbody>\n</table>\n</div>",
      "text/plain": "   Number of Unique Items Average Price  Number of Purchases Total Revenue\n0                     183         $3.05                  780      $2379.77"
     },
     "execution_count": 153,
     "metadata": {},
     "output_type": "execute_result"
    }
   ],
   "source": [
    "#Create a summary DataFrame using the above values\n",
    "purchase_summary_df = pd.DataFrame({\"Number of Unique Items\": [unique_items],\n",
    "                           \"Average Price\": [avg_price],\n",
    "                           \"Number of Purchases\": [num_purchases],\n",
    "                           \"Total Revenue\": [total_revenue]})\n",
    "\n",
    "#Formats the columns with pricing info using map() function\n",
    "purchase_summary_df[\"Average Price\"] = purchase_summary_df[\"Average Price\"].map(\"${:.2f}\".format)\n",
    "purchase_summary_df[\"Total Revenue\"] = purchase_summary_df[\"Total Revenue\"].map(\"${:.2f}\".format)\n",
    "\n",
    "#Display the summary data frame\n",
    "purchase_summary_df"
   ]
  },
  {
   "cell_type": "markdown",
   "metadata": {},
   "source": [
    "## Gender Demographics"
   ]
  },
  {
   "cell_type": "markdown",
   "metadata": {},
   "source": [
    "* Percentage and Count of Male Players\n",
    "\n",
    "\n",
    "* Percentage and Count of Female Players\n",
    "\n",
    "\n",
    "* Percentage and Count of Other / Non-Disclosed\n",
    "\n",
    "\n"
   ]
  },
  {
   "cell_type": "code",
   "execution_count": 154,
   "metadata": {},
   "outputs": [
    {
     "data": {
      "text/html": "<div>\n<style scoped>\n    .dataframe tbody tr th:only-of-type {\n        vertical-align: middle;\n    }\n\n    .dataframe tbody tr th {\n        vertical-align: top;\n    }\n\n    .dataframe thead th {\n        text-align: right;\n    }\n</style>\n<table border=\"1\" class=\"dataframe\">\n  <thead>\n    <tr style=\"text-align: right;\">\n      <th></th>\n      <th>Gender</th>\n      <th>Percentage of Players</th>\n    </tr>\n  </thead>\n  <tbody>\n    <tr>\n      <td>Male</td>\n      <td>484</td>\n      <td>84.03%</td>\n    </tr>\n    <tr>\n      <td>Female</td>\n      <td>81</td>\n      <td>14.06%</td>\n    </tr>\n    <tr>\n      <td>Other / Non-Disclosed</td>\n      <td>11</td>\n      <td>1.91%</td>\n    </tr>\n  </tbody>\n</table>\n</div>",
      "text/plain": "                       Gender Percentage of Players\nMale                      484                84.03%\nFemale                     81                14.06%\nOther / Non-Disclosed      11                 1.91%"
     },
     "execution_count": 154,
     "metadata": {},
     "output_type": "execute_result"
    }
   ],
   "source": [
    "#Create a df with only the unique SN\n",
    "unique_names_df = purchase_data.drop_duplicates([\"SN\"])\n",
    "#unique_names_df\n",
    "\n",
    "#Group the data by gender\n",
    "unique_gender_count = unique_names_df[\"Gender\"].value_counts()\n",
    "\n",
    "#Create a summary table of the gender count\n",
    "gender_df = pd.DataFrame(unique_gender_count)\n",
    "\n",
    "#Adds the percentage of players column to the table\n",
    "gender_df[\"Percentage of Players\"] = (gender_df[\"Gender\"] / player_count) * 100\n",
    "#Formats the Percentage of Players column to show a percentage\n",
    "gender_df[\"Percentage of Players\"] = gender_df[\"Percentage of Players\"].map(\"{:.2f}%\".format)\n",
    "gender_df"
   ]
  },
  {
   "cell_type": "markdown",
   "metadata": {},
   "source": [
    "\n",
    "## Purchasing Analysis (Gender)"
   ]
  },
  {
   "cell_type": "markdown",
   "metadata": {},
   "source": [
    "* Run basic calculations to obtain purchase count, avg. purchase price, avg. purchase total per person etc. by gender\n",
    "\n",
    "\n",
    "\n",
    "\n",
    "* Create a summary data frame to hold the results\n",
    "\n",
    "\n",
    "* Optional: give the displayed data cleaner formatting\n",
    "\n",
    "\n",
    "* Display the summary data frame"
   ]
  },
  {
   "cell_type": "code",
   "execution_count": 157,
   "metadata": {},
   "outputs": [
    {
     "name": "stdout",
     "output_type": "stream",
     "text": "Male                     652\nFemale                   113\nOther / Non-Disclosed     15\nName: Gender, dtype: int64\n{0: 652, 1: 113, 2: 15}\nIndex(['Purchase ID'], dtype='object')\n"
    }
   ],
   "source": [
    "gender_purchase_count = purchase_data[\"Gender\"].value_counts()\n",
    "print(gender_purchase_count)\n",
    "gender_values = dict()\n",
    "for x, v in enumerate(gender_purchase_count):\n",
    "    gender_values[x] = v\n",
    "print (gender_values)\n",
    "gender_grouped_data = purchase_data.groupby([\"Gender\"])\n",
    "gender_count = pd.DataFrame(gender_grouped_data.count())\n",
    "\n",
    "\n",
    "gender_mean = gender_grouped_data[\"Price\"].mean()\n",
    "gender_sum = gender_grouped_data[\"Price\"].sum()\n",
    "#print(gender_count)\n",
    "gender_count = gender_count.drop(['SN','Age','Item ID','Item Name','Price'], axis = 1)\n",
    "print(gender_count.columns)\n",
    "\n",
    "#gender_count = gender_count[{\"Average Purchase Price\": gender_mean}, {\"Total Purchase Value\": gender_sum}]\n",
    "#print(gender_count)\n",
    "#gender_purchase_summary_df = pd.DataFrame({\"Purchase Count\": [gender_purchase_count],\"Average Purchase Price\": [avg_price],\"Total Purchase Value\": [num_purchases]})\n",
    "#gender_purchase_summary_df"
   ]
  },
  {
   "cell_type": "markdown",
   "metadata": {},
   "source": [
    "## Age Demographics"
   ]
  },
  {
   "cell_type": "markdown",
   "metadata": {},
   "source": [
    "* Establish bins for ages\n",
    "\n",
    "\n",
    "* Categorize the existing players using the age bins. Hint: use pd.cut()\n",
    "\n",
    "\n",
    "* Calculate the numbers and percentages by age group\n",
    "\n",
    "\n",
    "* Create a summary data frame to hold the results\n",
    "\n",
    "\n",
    "* Optional: round the percentage column to two decimal points\n",
    "\n",
    "\n",
    "* Display Age Demographics Table\n"
   ]
  },
  {
   "cell_type": "code",
   "execution_count": 194,
   "metadata": {},
   "outputs": [
    {
     "name": "stdout",
     "output_type": "stream",
     "text": "Age    45\ndtype: int64\nAge    7\ndtype: int64\n"
    },
    {
     "ename": "ValueError",
     "evalue": "Length of values does not match length of index",
     "output_type": "error",
     "traceback": [
      "\u001b[1;31m---------------------------------------------------------------------------\u001b[0m",
      "\u001b[1;31mValueError\u001b[0m                                Traceback (most recent call last)",
      "\u001b[1;32m<ipython-input-194-69e7c9c6e825>\u001b[0m in \u001b[0;36m<module>\u001b[1;34m\u001b[0m\n\u001b[0;32m      7\u001b[0m \u001b[1;33m\u001b[0m\u001b[0m\n\u001b[0;32m      8\u001b[0m \u001b[0mage_data\u001b[0m\u001b[1;33m[\u001b[0m\u001b[1;34m\"Age Group Summary\"\u001b[0m\u001b[1;33m]\u001b[0m \u001b[1;33m=\u001b[0m \u001b[0mpd\u001b[0m\u001b[1;33m.\u001b[0m\u001b[0mcut\u001b[0m\u001b[1;33m(\u001b[0m\u001b[0mage_data\u001b[0m\u001b[1;33m[\u001b[0m\u001b[1;34m\"Age\"\u001b[0m\u001b[1;33m]\u001b[0m\u001b[1;33m,\u001b[0m\u001b[0mage_bins\u001b[0m\u001b[1;33m,\u001b[0m\u001b[0mlabels\u001b[0m \u001b[1;33m=\u001b[0m \u001b[0mage_groups\u001b[0m\u001b[1;33m)\u001b[0m\u001b[1;33m\u001b[0m\u001b[1;33m\u001b[0m\u001b[0m\n\u001b[1;32m----> 9\u001b[1;33m \u001b[0mage_data\u001b[0m\u001b[1;33m[\u001b[0m\u001b[1;34m\"Age Group Summary\"\u001b[0m\u001b[1;33m]\u001b[0m \u001b[1;33m=\u001b[0m \u001b[0mage_data\u001b[0m\u001b[1;33m[\u001b[0m\u001b[1;34m\"Age Group Summary\"\u001b[0m\u001b[1;33m]\u001b[0m\u001b[1;33m.\u001b[0m\u001b[0mvalue_counts\u001b[0m\u001b[1;33m(\u001b[0m\u001b[0msort\u001b[0m \u001b[1;33m=\u001b[0m \u001b[1;32mFalse\u001b[0m\u001b[1;33m)\u001b[0m\u001b[1;33m.\u001b[0m\u001b[0mtolist\u001b[0m\u001b[1;33m(\u001b[0m\u001b[1;33m)\u001b[0m\u001b[1;33m\u001b[0m\u001b[1;33m\u001b[0m\u001b[0m\n\u001b[0m\u001b[0;32m     10\u001b[0m \u001b[1;31m#age_data[\"Age Group Summary\"] = age_data[\"Age Group Summary\"].astype(float)\u001b[0m\u001b[1;33m\u001b[0m\u001b[1;33m\u001b[0m\u001b[1;33m\u001b[0m\u001b[0m\n\u001b[0;32m     11\u001b[0m \u001b[0mage_data\u001b[0m\u001b[1;33m.\u001b[0m\u001b[0mdtypes\u001b[0m\u001b[1;33m\u001b[0m\u001b[1;33m\u001b[0m\u001b[0m\n",
      "\u001b[1;32mC:\\ProgramData\\Anaconda3\\lib\\site-packages\\pandas\\core\\frame.py\u001b[0m in \u001b[0;36m__setitem__\u001b[1;34m(self, key, value)\u001b[0m\n\u001b[0;32m   3470\u001b[0m         \u001b[1;32melse\u001b[0m\u001b[1;33m:\u001b[0m\u001b[1;33m\u001b[0m\u001b[1;33m\u001b[0m\u001b[0m\n\u001b[0;32m   3471\u001b[0m             \u001b[1;31m# set column\u001b[0m\u001b[1;33m\u001b[0m\u001b[1;33m\u001b[0m\u001b[1;33m\u001b[0m\u001b[0m\n\u001b[1;32m-> 3472\u001b[1;33m             \u001b[0mself\u001b[0m\u001b[1;33m.\u001b[0m\u001b[0m_set_item\u001b[0m\u001b[1;33m(\u001b[0m\u001b[0mkey\u001b[0m\u001b[1;33m,\u001b[0m \u001b[0mvalue\u001b[0m\u001b[1;33m)\u001b[0m\u001b[1;33m\u001b[0m\u001b[1;33m\u001b[0m\u001b[0m\n\u001b[0m\u001b[0;32m   3473\u001b[0m \u001b[1;33m\u001b[0m\u001b[0m\n\u001b[0;32m   3474\u001b[0m     \u001b[1;32mdef\u001b[0m \u001b[0m_setitem_slice\u001b[0m\u001b[1;33m(\u001b[0m\u001b[0mself\u001b[0m\u001b[1;33m,\u001b[0m \u001b[0mkey\u001b[0m\u001b[1;33m,\u001b[0m \u001b[0mvalue\u001b[0m\u001b[1;33m)\u001b[0m\u001b[1;33m:\u001b[0m\u001b[1;33m\u001b[0m\u001b[1;33m\u001b[0m\u001b[0m\n",
      "\u001b[1;32mC:\\ProgramData\\Anaconda3\\lib\\site-packages\\pandas\\core\\frame.py\u001b[0m in \u001b[0;36m_set_item\u001b[1;34m(self, key, value)\u001b[0m\n\u001b[0;32m   3547\u001b[0m \u001b[1;33m\u001b[0m\u001b[0m\n\u001b[0;32m   3548\u001b[0m         \u001b[0mself\u001b[0m\u001b[1;33m.\u001b[0m\u001b[0m_ensure_valid_index\u001b[0m\u001b[1;33m(\u001b[0m\u001b[0mvalue\u001b[0m\u001b[1;33m)\u001b[0m\u001b[1;33m\u001b[0m\u001b[1;33m\u001b[0m\u001b[0m\n\u001b[1;32m-> 3549\u001b[1;33m         \u001b[0mvalue\u001b[0m \u001b[1;33m=\u001b[0m \u001b[0mself\u001b[0m\u001b[1;33m.\u001b[0m\u001b[0m_sanitize_column\u001b[0m\u001b[1;33m(\u001b[0m\u001b[0mkey\u001b[0m\u001b[1;33m,\u001b[0m \u001b[0mvalue\u001b[0m\u001b[1;33m)\u001b[0m\u001b[1;33m\u001b[0m\u001b[1;33m\u001b[0m\u001b[0m\n\u001b[0m\u001b[0;32m   3550\u001b[0m         \u001b[0mNDFrame\u001b[0m\u001b[1;33m.\u001b[0m\u001b[0m_set_item\u001b[0m\u001b[1;33m(\u001b[0m\u001b[0mself\u001b[0m\u001b[1;33m,\u001b[0m \u001b[0mkey\u001b[0m\u001b[1;33m,\u001b[0m \u001b[0mvalue\u001b[0m\u001b[1;33m)\u001b[0m\u001b[1;33m\u001b[0m\u001b[1;33m\u001b[0m\u001b[0m\n\u001b[0;32m   3551\u001b[0m \u001b[1;33m\u001b[0m\u001b[0m\n",
      "\u001b[1;32mC:\\ProgramData\\Anaconda3\\lib\\site-packages\\pandas\\core\\frame.py\u001b[0m in \u001b[0;36m_sanitize_column\u001b[1;34m(self, key, value, broadcast)\u001b[0m\n\u001b[0;32m   3732\u001b[0m \u001b[1;33m\u001b[0m\u001b[0m\n\u001b[0;32m   3733\u001b[0m             \u001b[1;31m# turn me into an ndarray\u001b[0m\u001b[1;33m\u001b[0m\u001b[1;33m\u001b[0m\u001b[1;33m\u001b[0m\u001b[0m\n\u001b[1;32m-> 3734\u001b[1;33m             \u001b[0mvalue\u001b[0m \u001b[1;33m=\u001b[0m \u001b[0msanitize_index\u001b[0m\u001b[1;33m(\u001b[0m\u001b[0mvalue\u001b[0m\u001b[1;33m,\u001b[0m \u001b[0mself\u001b[0m\u001b[1;33m.\u001b[0m\u001b[0mindex\u001b[0m\u001b[1;33m,\u001b[0m \u001b[0mcopy\u001b[0m\u001b[1;33m=\u001b[0m\u001b[1;32mFalse\u001b[0m\u001b[1;33m)\u001b[0m\u001b[1;33m\u001b[0m\u001b[1;33m\u001b[0m\u001b[0m\n\u001b[0m\u001b[0;32m   3735\u001b[0m             \u001b[1;32mif\u001b[0m \u001b[1;32mnot\u001b[0m \u001b[0misinstance\u001b[0m\u001b[1;33m(\u001b[0m\u001b[0mvalue\u001b[0m\u001b[1;33m,\u001b[0m \u001b[1;33m(\u001b[0m\u001b[0mnp\u001b[0m\u001b[1;33m.\u001b[0m\u001b[0mndarray\u001b[0m\u001b[1;33m,\u001b[0m \u001b[0mIndex\u001b[0m\u001b[1;33m)\u001b[0m\u001b[1;33m)\u001b[0m\u001b[1;33m:\u001b[0m\u001b[1;33m\u001b[0m\u001b[1;33m\u001b[0m\u001b[0m\n\u001b[0;32m   3736\u001b[0m                 \u001b[1;32mif\u001b[0m \u001b[0misinstance\u001b[0m\u001b[1;33m(\u001b[0m\u001b[0mvalue\u001b[0m\u001b[1;33m,\u001b[0m \u001b[0mlist\u001b[0m\u001b[1;33m)\u001b[0m \u001b[1;32mand\u001b[0m \u001b[0mlen\u001b[0m\u001b[1;33m(\u001b[0m\u001b[0mvalue\u001b[0m\u001b[1;33m)\u001b[0m \u001b[1;33m>\u001b[0m \u001b[1;36m0\u001b[0m\u001b[1;33m:\u001b[0m\u001b[1;33m\u001b[0m\u001b[1;33m\u001b[0m\u001b[0m\n",
      "\u001b[1;32mC:\\ProgramData\\Anaconda3\\lib\\site-packages\\pandas\\core\\internals\\construction.py\u001b[0m in \u001b[0;36msanitize_index\u001b[1;34m(data, index, copy)\u001b[0m\n\u001b[0;32m    610\u001b[0m \u001b[1;33m\u001b[0m\u001b[0m\n\u001b[0;32m    611\u001b[0m     \u001b[1;32mif\u001b[0m \u001b[0mlen\u001b[0m\u001b[1;33m(\u001b[0m\u001b[0mdata\u001b[0m\u001b[1;33m)\u001b[0m \u001b[1;33m!=\u001b[0m \u001b[0mlen\u001b[0m\u001b[1;33m(\u001b[0m\u001b[0mindex\u001b[0m\u001b[1;33m)\u001b[0m\u001b[1;33m:\u001b[0m\u001b[1;33m\u001b[0m\u001b[1;33m\u001b[0m\u001b[0m\n\u001b[1;32m--> 612\u001b[1;33m         \u001b[1;32mraise\u001b[0m \u001b[0mValueError\u001b[0m\u001b[1;33m(\u001b[0m\u001b[1;34m\"Length of values does not match length of index\"\u001b[0m\u001b[1;33m)\u001b[0m\u001b[1;33m\u001b[0m\u001b[1;33m\u001b[0m\u001b[0m\n\u001b[0m\u001b[0;32m    613\u001b[0m \u001b[1;33m\u001b[0m\u001b[0m\n\u001b[0;32m    614\u001b[0m     \u001b[1;32mif\u001b[0m \u001b[0misinstance\u001b[0m\u001b[1;33m(\u001b[0m\u001b[0mdata\u001b[0m\u001b[1;33m,\u001b[0m \u001b[0mABCIndexClass\u001b[0m\u001b[1;33m)\u001b[0m \u001b[1;32mand\u001b[0m \u001b[1;32mnot\u001b[0m \u001b[0mcopy\u001b[0m\u001b[1;33m:\u001b[0m\u001b[1;33m\u001b[0m\u001b[1;33m\u001b[0m\u001b[0m\n",
      "\u001b[1;31mValueError\u001b[0m: Length of values does not match length of index"
     ]
    }
   ],
   "source": [
    "age_data = unique_names_df[[\"Age\"]]\n",
    "print(age_data.max())\n",
    "print(age_data.min())\n",
    "age_bins = [0,9,14,19,24,29,34,39,50]\n",
    "age_groups = [\"<10\",\"10-14\",\"15-19\",\"20-24\",\"25-29\",\"30-34\",\"35-39\",\"40+\"]\n",
    "\n",
    "\n",
    "age_data[\"Age Group Summary\"] = pd.cut(age_data[\"Age\"],age_bins,labels = age_groups)\n",
    "age_data[\"Age Group Summary\"] = age_data[\"Age Group Summary\"].value_counts(sort = False).tolist()\n",
    "#age_data[\"Age Group Summary\"] = age_data[\"Age Group Summary\"].astype(float)\n",
    "age_data.dtypes\n",
    "#age_data[\"Percentage of Players\"] = float(age_data[\"Age Group Summary\"]) / player_count \n",
    "#age_data\n",
    "#age_data = purchase_data.groupby([\"Age Group Summary\"])\n",
    "#age_data.count()"
   ]
  },
  {
   "cell_type": "markdown",
   "metadata": {},
   "source": [
    "## Purchasing Analysis (Age)"
   ]
  },
  {
   "cell_type": "markdown",
   "metadata": {},
   "source": [
    "* Bin the purchase_data data frame by age\n",
    "\n",
    "\n",
    "* Run basic calculations to obtain purchase count, avg. purchase price, avg. purchase total per person etc. in the table below\n",
    "\n",
    "\n",
    "* Create a summary data frame to hold the results\n",
    "\n",
    "\n",
    "* Optional: give the displayed data cleaner formatting\n",
    "\n",
    "\n",
    "* Display the summary data frame"
   ]
  },
  {
   "cell_type": "code",
   "execution_count": 7,
   "metadata": {},
   "outputs": [
    {
     "data": {
      "text/html": [
       "<div>\n",
       "<style scoped>\n",
       "    .dataframe tbody tr th:only-of-type {\n",
       "        vertical-align: middle;\n",
       "    }\n",
       "\n",
       "    .dataframe tbody tr th {\n",
       "        vertical-align: top;\n",
       "    }\n",
       "\n",
       "    .dataframe thead th {\n",
       "        text-align: right;\n",
       "    }\n",
       "</style>\n",
       "<table border=\"1\" class=\"dataframe\">\n",
       "  <thead>\n",
       "    <tr style=\"text-align: right;\">\n",
       "      <th></th>\n",
       "      <th>Purchase Count</th>\n",
       "      <th>Average Purchase Price</th>\n",
       "      <th>Total Purchase Value</th>\n",
       "      <th>Avg Total Purchase per Person</th>\n",
       "    </tr>\n",
       "    <tr>\n",
       "      <th>Age Ranges</th>\n",
       "      <th></th>\n",
       "      <th></th>\n",
       "      <th></th>\n",
       "      <th></th>\n",
       "    </tr>\n",
       "  </thead>\n",
       "  <tbody>\n",
       "    <tr>\n",
       "      <th>&lt;10</th>\n",
       "      <td>23</td>\n",
       "      <td>$3.35</td>\n",
       "      <td>$77.13</td>\n",
       "      <td>$4.54</td>\n",
       "    </tr>\n",
       "    <tr>\n",
       "      <th>10-14</th>\n",
       "      <td>28</td>\n",
       "      <td>$2.96</td>\n",
       "      <td>$82.78</td>\n",
       "      <td>$3.76</td>\n",
       "    </tr>\n",
       "    <tr>\n",
       "      <th>15-19</th>\n",
       "      <td>136</td>\n",
       "      <td>$3.04</td>\n",
       "      <td>$412.89</td>\n",
       "      <td>$3.86</td>\n",
       "    </tr>\n",
       "    <tr>\n",
       "      <th>20-24</th>\n",
       "      <td>365</td>\n",
       "      <td>$3.05</td>\n",
       "      <td>$1,114.06</td>\n",
       "      <td>$4.32</td>\n",
       "    </tr>\n",
       "    <tr>\n",
       "      <th>25-29</th>\n",
       "      <td>101</td>\n",
       "      <td>$2.90</td>\n",
       "      <td>$293.00</td>\n",
       "      <td>$3.81</td>\n",
       "    </tr>\n",
       "    <tr>\n",
       "      <th>30-34</th>\n",
       "      <td>73</td>\n",
       "      <td>$2.93</td>\n",
       "      <td>$214.00</td>\n",
       "      <td>$4.12</td>\n",
       "    </tr>\n",
       "    <tr>\n",
       "      <th>35-39</th>\n",
       "      <td>41</td>\n",
       "      <td>$3.60</td>\n",
       "      <td>$147.67</td>\n",
       "      <td>$4.76</td>\n",
       "    </tr>\n",
       "    <tr>\n",
       "      <th>40+</th>\n",
       "      <td>13</td>\n",
       "      <td>$2.94</td>\n",
       "      <td>$38.24</td>\n",
       "      <td>$3.19</td>\n",
       "    </tr>\n",
       "  </tbody>\n",
       "</table>\n",
       "</div>"
      ],
      "text/plain": [
       "           Purchase Count Average Purchase Price Total Purchase Value  \\\n",
       "Age Ranges                                                              \n",
       "<10                    23                  $3.35               $77.13   \n",
       "10-14                  28                  $2.96               $82.78   \n",
       "15-19                 136                  $3.04              $412.89   \n",
       "20-24                 365                  $3.05            $1,114.06   \n",
       "25-29                 101                  $2.90              $293.00   \n",
       "30-34                  73                  $2.93              $214.00   \n",
       "35-39                  41                  $3.60              $147.67   \n",
       "40+                    13                  $2.94               $38.24   \n",
       "\n",
       "           Avg Total Purchase per Person  \n",
       "Age Ranges                                \n",
       "<10                                $4.54  \n",
       "10-14                              $3.76  \n",
       "15-19                              $3.86  \n",
       "20-24                              $4.32  \n",
       "25-29                              $3.81  \n",
       "30-34                              $4.12  \n",
       "35-39                              $4.76  \n",
       "40+                                $3.19  "
      ]
     },
     "execution_count": 7,
     "metadata": {},
     "output_type": "execute_result"
    }
   ],
   "source": []
  },
  {
   "cell_type": "markdown",
   "metadata": {},
   "source": [
    "## Top Spenders"
   ]
  },
  {
   "cell_type": "markdown",
   "metadata": {},
   "source": [
    "* Run basic calculations to obtain the results in the table below\n",
    "\n",
    "\n",
    "* Create a summary data frame to hold the results\n",
    "\n",
    "\n",
    "* Sort the total purchase value column in descending order\n",
    "\n",
    "\n",
    "* Optional: give the displayed data cleaner formatting\n",
    "\n",
    "\n",
    "* Display a preview of the summary data frame\n",
    "\n"
   ]
  },
  {
   "cell_type": "code",
   "execution_count": 118,
   "metadata": {},
   "outputs": [
    {
     "name": "stdout",
     "output_type": "stream",
     "text": "Purchase ID  Age  Item ID  Price\n0              0   20      108   3.53\n1              1   40      143   1.56\n2              2   24       92   4.88\n3              3   24      100   3.27\n4              4   23      131   1.44\n..           ...  ...      ...    ...\n775          775   21       60   3.54\n776         2285   84      518  13.62\n777          777   20       67   3.46\n778          778    7      101   4.19\n779         1240   48      218   6.08\n\n[780 rows x 4 columns]\n"
    }
   ],
   "source": [
    "spender_count = purchase_data.groupby([\"SN\"])\n",
    "print(spender_count.cumsum())"
   ]
  },
  {
   "cell_type": "markdown",
   "metadata": {},
   "source": [
    "## Most Popular Items"
   ]
  },
  {
   "cell_type": "markdown",
   "metadata": {},
   "source": [
    "* Retrieve the Item ID, Item Name, and Item Price columns\n",
    "\n",
    "\n",
    "* Group by Item ID and Item Name. Perform calculations to obtain purchase count, item price, and total purchase value\n",
    "\n",
    "\n",
    "* Create a summary data frame to hold the results\n",
    "\n",
    "\n",
    "* Sort the purchase count column in descending order\n",
    "\n",
    "\n",
    "* Optional: give the displayed data cleaner formatting\n",
    "\n",
    "\n",
    "* Display a preview of the summary data frame\n",
    "\n"
   ]
  },
  {
   "cell_type": "code",
   "execution_count": 9,
   "metadata": {},
   "outputs": [
    {
     "data": {
      "text/html": [
       "<div>\n",
       "<style scoped>\n",
       "    .dataframe tbody tr th:only-of-type {\n",
       "        vertical-align: middle;\n",
       "    }\n",
       "\n",
       "    .dataframe tbody tr th {\n",
       "        vertical-align: top;\n",
       "    }\n",
       "\n",
       "    .dataframe thead th {\n",
       "        text-align: right;\n",
       "    }\n",
       "</style>\n",
       "<table border=\"1\" class=\"dataframe\">\n",
       "  <thead>\n",
       "    <tr style=\"text-align: right;\">\n",
       "      <th></th>\n",
       "      <th></th>\n",
       "      <th>Purchase Count</th>\n",
       "      <th>Item Price</th>\n",
       "      <th>Total Purchase Value</th>\n",
       "    </tr>\n",
       "    <tr>\n",
       "      <th>Item ID</th>\n",
       "      <th>Item Name</th>\n",
       "      <th></th>\n",
       "      <th></th>\n",
       "      <th></th>\n",
       "    </tr>\n",
       "  </thead>\n",
       "  <tbody>\n",
       "    <tr>\n",
       "      <th>178</th>\n",
       "      <th>Oathbreaker, Last Hope of the Breaking Storm</th>\n",
       "      <td>12</td>\n",
       "      <td>$4.23</td>\n",
       "      <td>$50.76</td>\n",
       "    </tr>\n",
       "    <tr>\n",
       "      <th>145</th>\n",
       "      <th>Fiery Glass Crusader</th>\n",
       "      <td>9</td>\n",
       "      <td>$4.58</td>\n",
       "      <td>$41.22</td>\n",
       "    </tr>\n",
       "    <tr>\n",
       "      <th>108</th>\n",
       "      <th>Extraction, Quickblade Of Trembling Hands</th>\n",
       "      <td>9</td>\n",
       "      <td>$3.53</td>\n",
       "      <td>$31.77</td>\n",
       "    </tr>\n",
       "    <tr>\n",
       "      <th>82</th>\n",
       "      <th>Nirvana</th>\n",
       "      <td>9</td>\n",
       "      <td>$4.90</td>\n",
       "      <td>$44.10</td>\n",
       "    </tr>\n",
       "    <tr>\n",
       "      <th>19</th>\n",
       "      <th>Pursuit, Cudgel of Necromancy</th>\n",
       "      <td>8</td>\n",
       "      <td>$1.02</td>\n",
       "      <td>$8.16</td>\n",
       "    </tr>\n",
       "  </tbody>\n",
       "</table>\n",
       "</div>"
      ],
      "text/plain": [
       "                                                     Purchase Count  \\\n",
       "Item ID Item Name                                                     \n",
       "178     Oathbreaker, Last Hope of the Breaking Storm             12   \n",
       "145     Fiery Glass Crusader                                      9   \n",
       "108     Extraction, Quickblade Of Trembling Hands                 9   \n",
       "82      Nirvana                                                   9   \n",
       "19      Pursuit, Cudgel of Necromancy                             8   \n",
       "\n",
       "                                                     Item Price  \\\n",
       "Item ID Item Name                                                 \n",
       "178     Oathbreaker, Last Hope of the Breaking Storm      $4.23   \n",
       "145     Fiery Glass Crusader                              $4.58   \n",
       "108     Extraction, Quickblade Of Trembling Hands         $3.53   \n",
       "82      Nirvana                                           $4.90   \n",
       "19      Pursuit, Cudgel of Necromancy                     $1.02   \n",
       "\n",
       "                                                     Total Purchase Value  \n",
       "Item ID Item Name                                                          \n",
       "178     Oathbreaker, Last Hope of the Breaking Storm               $50.76  \n",
       "145     Fiery Glass Crusader                                       $41.22  \n",
       "108     Extraction, Quickblade Of Trembling Hands                  $31.77  \n",
       "82      Nirvana                                                    $44.10  \n",
       "19      Pursuit, Cudgel of Necromancy                               $8.16  "
      ]
     },
     "execution_count": 9,
     "metadata": {},
     "output_type": "execute_result"
    }
   ],
   "source": []
  },
  {
   "cell_type": "markdown",
   "metadata": {},
   "source": [
    "## Most Profitable Items"
   ]
  },
  {
   "cell_type": "markdown",
   "metadata": {},
   "source": [
    "* Sort the above table by total purchase value in descending order\n",
    "\n",
    "\n",
    "* Optional: give the displayed data cleaner formatting\n",
    "\n",
    "\n",
    "* Display a preview of the data frame\n",
    "\n"
   ]
  },
  {
   "cell_type": "code",
   "execution_count": 10,
   "metadata": {
    "scrolled": true
   },
   "outputs": [
    {
     "data": {
      "text/html": [
       "<div>\n",
       "<style scoped>\n",
       "    .dataframe tbody tr th:only-of-type {\n",
       "        vertical-align: middle;\n",
       "    }\n",
       "\n",
       "    .dataframe tbody tr th {\n",
       "        vertical-align: top;\n",
       "    }\n",
       "\n",
       "    .dataframe thead th {\n",
       "        text-align: right;\n",
       "    }\n",
       "</style>\n",
       "<table border=\"1\" class=\"dataframe\">\n",
       "  <thead>\n",
       "    <tr style=\"text-align: right;\">\n",
       "      <th></th>\n",
       "      <th></th>\n",
       "      <th>Purchase Count</th>\n",
       "      <th>Item Price</th>\n",
       "      <th>Total Purchase Value</th>\n",
       "    </tr>\n",
       "    <tr>\n",
       "      <th>Item ID</th>\n",
       "      <th>Item Name</th>\n",
       "      <th></th>\n",
       "      <th></th>\n",
       "      <th></th>\n",
       "    </tr>\n",
       "  </thead>\n",
       "  <tbody>\n",
       "    <tr>\n",
       "      <th>178</th>\n",
       "      <th>Oathbreaker, Last Hope of the Breaking Storm</th>\n",
       "      <td>12</td>\n",
       "      <td>$4.23</td>\n",
       "      <td>$50.76</td>\n",
       "    </tr>\n",
       "    <tr>\n",
       "      <th>82</th>\n",
       "      <th>Nirvana</th>\n",
       "      <td>9</td>\n",
       "      <td>$4.90</td>\n",
       "      <td>$44.10</td>\n",
       "    </tr>\n",
       "    <tr>\n",
       "      <th>145</th>\n",
       "      <th>Fiery Glass Crusader</th>\n",
       "      <td>9</td>\n",
       "      <td>$4.58</td>\n",
       "      <td>$41.22</td>\n",
       "    </tr>\n",
       "    <tr>\n",
       "      <th>92</th>\n",
       "      <th>Final Critic</th>\n",
       "      <td>8</td>\n",
       "      <td>$4.88</td>\n",
       "      <td>$39.04</td>\n",
       "    </tr>\n",
       "    <tr>\n",
       "      <th>103</th>\n",
       "      <th>Singed Scalpel</th>\n",
       "      <td>8</td>\n",
       "      <td>$4.35</td>\n",
       "      <td>$34.80</td>\n",
       "    </tr>\n",
       "  </tbody>\n",
       "</table>\n",
       "</div>"
      ],
      "text/plain": [
       "                                                     Purchase Count  \\\n",
       "Item ID Item Name                                                     \n",
       "178     Oathbreaker, Last Hope of the Breaking Storm             12   \n",
       "82      Nirvana                                                   9   \n",
       "145     Fiery Glass Crusader                                      9   \n",
       "92      Final Critic                                              8   \n",
       "103     Singed Scalpel                                            8   \n",
       "\n",
       "                                                     Item Price  \\\n",
       "Item ID Item Name                                                 \n",
       "178     Oathbreaker, Last Hope of the Breaking Storm      $4.23   \n",
       "82      Nirvana                                           $4.90   \n",
       "145     Fiery Glass Crusader                              $4.58   \n",
       "92      Final Critic                                      $4.88   \n",
       "103     Singed Scalpel                                    $4.35   \n",
       "\n",
       "                                                     Total Purchase Value  \n",
       "Item ID Item Name                                                          \n",
       "178     Oathbreaker, Last Hope of the Breaking Storm               $50.76  \n",
       "82      Nirvana                                                    $44.10  \n",
       "145     Fiery Glass Crusader                                       $41.22  \n",
       "92      Final Critic                                               $39.04  \n",
       "103     Singed Scalpel                                             $34.80  "
      ]
     },
     "execution_count": 10,
     "metadata": {},
     "output_type": "execute_result"
    }
   ],
   "source": []
  }
 ],
 "metadata": {
  "anaconda-cloud": {},
  "kernel_info": {
   "name": "python3"
  },
  "kernelspec": {
   "display_name": "Python 3",
   "language": "python",
   "name": "python3"
  },
  "language_info": {
   "codemirror_mode": {
    "name": "ipython",
    "version": 3
   },
   "file_extension": ".py",
   "mimetype": "text/x-python",
   "name": "python",
   "nbconvert_exporter": "python",
   "pygments_lexer": "ipython3",
   "version": "3.7.4-final"
  },
  "latex_envs": {
   "LaTeX_envs_menu_present": true,
   "autoclose": false,
   "autocomplete": true,
   "bibliofile": "biblio.bib",
   "cite_by": "apalike",
   "current_citInitial": 1,
   "eqLabelWithNumbers": true,
   "eqNumInitial": 1,
   "hotkeys": {
    "equation": "Ctrl-E",
    "itemize": "Ctrl-I"
   },
   "labels_anchors": false,
   "latex_user_defs": false,
   "report_style_numbering": false,
   "user_envs_cfg": false
  },
  "nteract": {
   "version": "0.2.0"
  }
 },
 "nbformat": 4,
 "nbformat_minor": 2
}